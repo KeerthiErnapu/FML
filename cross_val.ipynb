{
  "nbformat": 4,
  "nbformat_minor": 0,
  "metadata": {
    "colab": {
      "provenance": [],
      "authorship_tag": "ABX9TyOS/mtG+wChrcLgyWgkE5lR",
      "include_colab_link": true
    },
    "kernelspec": {
      "name": "python3",
      "display_name": "Python 3"
    },
    "language_info": {
      "name": "python"
    }
  },
  "cells": [
    {
      "cell_type": "markdown",
      "metadata": {
        "id": "view-in-github",
        "colab_type": "text"
      },
      "source": [
        "<a href=\"https://colab.research.google.com/github/KeerthiErnapu/FML/blob/main/cross_val.ipynb\" target=\"_parent\"><img src=\"https://colab.research.google.com/assets/colab-badge.svg\" alt=\"Open In Colab\"/></a>"
      ]
    },
    {
      "cell_type": "code",
      "execution_count": 20,
      "metadata": {
        "id": "AdsOelYuVE-d"
      },
      "outputs": [],
      "source": [
        "from numpy import mean,sqrt,absolute\n",
        "import pandas as pd\n",
        "import matplotlib.pyplot as plt\n",
        "from sklearn.linear_model import LinearRegression\n",
        "from sklearn.model_selection import KFold\n",
        "from sklearn.model_selection import cross_val_score\n",
        "from sklearn.model_selection import train_test_split\n"
      ]
    },
    {
      "cell_type": "code",
      "source": [
        "data=pd.read_csv('/content/Boston (1).csv')"
      ],
      "metadata": {
        "id": "mPeaotwmVwww"
      },
      "execution_count": 2,
      "outputs": []
    },
    {
      "cell_type": "code",
      "source": [
        "data.shape"
      ],
      "metadata": {
        "colab": {
          "base_uri": "https://localhost:8080/"
        },
        "id": "S9Eqobc3WFCs",
        "outputId": "45382a5f-a70b-4437-9613-e15cfb37a3c8"
      },
      "execution_count": 15,
      "outputs": [
        {
          "output_type": "execute_result",
          "data": {
            "text/plain": [
              "(506, 15)"
            ]
          },
          "metadata": {},
          "execution_count": 15
        }
      ]
    },
    {
      "cell_type": "code",
      "source": [
        "x=data.drop('medv',axis=1).values\n",
        "y=data['medv'].values"
      ],
      "metadata": {
        "id": "XZlQJhWtWMK1"
      },
      "execution_count": 10,
      "outputs": []
    },
    {
      "cell_type": "code",
      "source": [
        "x_rm=x[:,5]\n",
        "x_rm=x_rm.reshape(-1,1)\n",
        "y=y.reshape(-1,1)"
      ],
      "metadata": {
        "id": "lNoilCG3WUJy"
      },
      "execution_count": 13,
      "outputs": []
    },
    {
      "cell_type": "code",
      "source": [
        "x_train,x_test,y_train,y_test=train_test_split(x,y,test_size=0.10)"
      ],
      "metadata": {
        "id": "DwD2Ljb9XMZT"
      },
      "execution_count": 16,
      "outputs": []
    },
    {
      "cell_type": "code",
      "source": [
        "mod=LinearRegression()"
      ],
      "metadata": {
        "id": "5dwXrSNOXg25"
      },
      "execution_count": 18,
      "outputs": []
    },
    {
      "cell_type": "code",
      "source": [
        "folds=KFold(n_splits=5,shuffle=True,random_state=100)\n",
        "scores=cross_val_score(mod,x_train,y_train,scoring='neg_mean_squared_error',cv=folds)\n",
        "sqrt(mean(absolute(scores)))"
      ],
      "metadata": {
        "colab": {
          "base_uri": "https://localhost:8080/"
        },
        "id": "mXuwioRxX4-w",
        "outputId": "99c9f67f-099c-46f9-8d23-819e97f7cc72"
      },
      "execution_count": 21,
      "outputs": [
        {
          "output_type": "execute_result",
          "data": {
            "text/plain": [
              "4.792528256654121"
            ]
          },
          "metadata": {},
          "execution_count": 21
        }
      ]
    }
  ]
}