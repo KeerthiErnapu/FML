{
  "nbformat": 4,
  "nbformat_minor": 0,
  "metadata": {
    "colab": {
      "provenance": [],
      "authorship_tag": "ABX9TyOCnh/KJOiJeg9b6kSZO/7V",
      "include_colab_link": true
    },
    "kernelspec": {
      "name": "python3",
      "display_name": "Python 3"
    },
    "language_info": {
      "name": "python"
    }
  },
  "cells": [
    {
      "cell_type": "markdown",
      "metadata": {
        "id": "view-in-github",
        "colab_type": "text"
      },
      "source": [
        "<a href=\"https://colab.research.google.com/github/KeerthiErnapu/FML/blob/main/Logistic_Regression.ipynb\" target=\"_parent\"><img src=\"https://colab.research.google.com/assets/colab-badge.svg\" alt=\"Open In Colab\"/></a>"
      ]
    },
    {
      "cell_type": "code",
      "execution_count": null,
      "metadata": {
        "id": "rdEOspfmbahh"
      },
      "outputs": [],
      "source": [
        "import numpy as np\n",
        "import pandas as pd\n",
        "import matplotlib.pyplot as plt\n",
        "from sklearn.linear_model import LogisticRegression\n",
        "from sklearn.metrics import classification_report, confusion_matrix"
      ]
    },
    {
      "cell_type": "code",
      "source": [
        "data=pd.read_csv(\"/IRIS.csv\")\n",
        "print(data)"
      ],
      "metadata": {
        "colab": {
          "base_uri": "https://localhost:8080/"
        },
        "id": "Jtd2QWHjcpCF",
        "outputId": "14d40f3b-d0ee-4302-e839-d5e56f6a174c"
      },
      "execution_count": null,
      "outputs": [
        {
          "output_type": "stream",
          "name": "stdout",
          "text": [
            "     sepal_length  sepal_width  petal_length  petal_width         species\n",
            "0             5.1          3.5           1.4          0.2     Iris-setosa\n",
            "1             4.9          3.0           1.4          0.2     Iris-setosa\n",
            "2             4.7          3.2           1.3          0.2     Iris-setosa\n",
            "3             4.6          3.1           1.5          0.2     Iris-setosa\n",
            "4             5.0          3.6           1.4          0.2     Iris-setosa\n",
            "..            ...          ...           ...          ...             ...\n",
            "145           6.7          3.0           5.2          2.3  Iris-virginica\n",
            "146           6.3          2.5           5.0          1.9  Iris-virginica\n",
            "147           6.5          3.0           5.2          2.0  Iris-virginica\n",
            "148           6.2          3.4           5.4          2.3  Iris-virginica\n",
            "149           5.9          3.0           5.1          1.8  Iris-virginica\n",
            "\n",
            "[150 rows x 5 columns]\n"
          ]
        }
      ]
    },
    {
      "cell_type": "code",
      "source": [
        "y=data['species'].values\n",
        "x=data.drop('species', axis=1).values\n"
      ],
      "metadata": {
        "id": "NCvB_QPDdwYu"
      },
      "execution_count": null,
      "outputs": []
    },
    {
      "cell_type": "code",
      "source": [
        "from sklearn.model_selection import train_test_split\n",
        "x_train,x_test,y_train,y_test=train_test_split(x,y,train_size=0.70,test_size=0.30)"
      ],
      "metadata": {
        "id": "HmnkO3n34KFj"
      },
      "execution_count": 37,
      "outputs": []
    },
    {
      "cell_type": "code",
      "source": [
        "model=LogisticRegression(C=0.5)\n",
        "model.fit(x,y)"
      ],
      "metadata": {
        "colab": {
          "base_uri": "https://localhost:8080/",
          "height": 74
        },
        "id": "ojJDUsWSoI7u",
        "outputId": "cc9362ab-cf82-44b6-bf04-77518ecb7a25"
      },
      "execution_count": 38,
      "outputs": [
        {
          "output_type": "execute_result",
          "data": {
            "text/plain": [
              "LogisticRegression(C=0.5)"
            ],
            "text/html": [
              "<style>#sk-container-id-4 {color: black;background-color: white;}#sk-container-id-4 pre{padding: 0;}#sk-container-id-4 div.sk-toggleable {background-color: white;}#sk-container-id-4 label.sk-toggleable__label {cursor: pointer;display: block;width: 100%;margin-bottom: 0;padding: 0.3em;box-sizing: border-box;text-align: center;}#sk-container-id-4 label.sk-toggleable__label-arrow:before {content: \"▸\";float: left;margin-right: 0.25em;color: #696969;}#sk-container-id-4 label.sk-toggleable__label-arrow:hover:before {color: black;}#sk-container-id-4 div.sk-estimator:hover label.sk-toggleable__label-arrow:before {color: black;}#sk-container-id-4 div.sk-toggleable__content {max-height: 0;max-width: 0;overflow: hidden;text-align: left;background-color: #f0f8ff;}#sk-container-id-4 div.sk-toggleable__content pre {margin: 0.2em;color: black;border-radius: 0.25em;background-color: #f0f8ff;}#sk-container-id-4 input.sk-toggleable__control:checked~div.sk-toggleable__content {max-height: 200px;max-width: 100%;overflow: auto;}#sk-container-id-4 input.sk-toggleable__control:checked~label.sk-toggleable__label-arrow:before {content: \"▾\";}#sk-container-id-4 div.sk-estimator input.sk-toggleable__control:checked~label.sk-toggleable__label {background-color: #d4ebff;}#sk-container-id-4 div.sk-label input.sk-toggleable__control:checked~label.sk-toggleable__label {background-color: #d4ebff;}#sk-container-id-4 input.sk-hidden--visually {border: 0;clip: rect(1px 1px 1px 1px);clip: rect(1px, 1px, 1px, 1px);height: 1px;margin: -1px;overflow: hidden;padding: 0;position: absolute;width: 1px;}#sk-container-id-4 div.sk-estimator {font-family: monospace;background-color: #f0f8ff;border: 1px dotted black;border-radius: 0.25em;box-sizing: border-box;margin-bottom: 0.5em;}#sk-container-id-4 div.sk-estimator:hover {background-color: #d4ebff;}#sk-container-id-4 div.sk-parallel-item::after {content: \"\";width: 100%;border-bottom: 1px solid gray;flex-grow: 1;}#sk-container-id-4 div.sk-label:hover label.sk-toggleable__label {background-color: #d4ebff;}#sk-container-id-4 div.sk-serial::before {content: \"\";position: absolute;border-left: 1px solid gray;box-sizing: border-box;top: 0;bottom: 0;left: 50%;z-index: 0;}#sk-container-id-4 div.sk-serial {display: flex;flex-direction: column;align-items: center;background-color: white;padding-right: 0.2em;padding-left: 0.2em;position: relative;}#sk-container-id-4 div.sk-item {position: relative;z-index: 1;}#sk-container-id-4 div.sk-parallel {display: flex;align-items: stretch;justify-content: center;background-color: white;position: relative;}#sk-container-id-4 div.sk-item::before, #sk-container-id-4 div.sk-parallel-item::before {content: \"\";position: absolute;border-left: 1px solid gray;box-sizing: border-box;top: 0;bottom: 0;left: 50%;z-index: -1;}#sk-container-id-4 div.sk-parallel-item {display: flex;flex-direction: column;z-index: 1;position: relative;background-color: white;}#sk-container-id-4 div.sk-parallel-item:first-child::after {align-self: flex-end;width: 50%;}#sk-container-id-4 div.sk-parallel-item:last-child::after {align-self: flex-start;width: 50%;}#sk-container-id-4 div.sk-parallel-item:only-child::after {width: 0;}#sk-container-id-4 div.sk-dashed-wrapped {border: 1px dashed gray;margin: 0 0.4em 0.5em 0.4em;box-sizing: border-box;padding-bottom: 0.4em;background-color: white;}#sk-container-id-4 div.sk-label label {font-family: monospace;font-weight: bold;display: inline-block;line-height: 1.2em;}#sk-container-id-4 div.sk-label-container {text-align: center;}#sk-container-id-4 div.sk-container {/* jupyter's `normalize.less` sets `[hidden] { display: none; }` but bootstrap.min.css set `[hidden] { display: none !important; }` so we also need the `!important` here to be able to override the default hidden behavior on the sphinx rendered scikit-learn.org. See: https://github.com/scikit-learn/scikit-learn/issues/21755 */display: inline-block !important;position: relative;}#sk-container-id-4 div.sk-text-repr-fallback {display: none;}</style><div id=\"sk-container-id-4\" class=\"sk-top-container\"><div class=\"sk-text-repr-fallback\"><pre>LogisticRegression(C=0.5)</pre><b>In a Jupyter environment, please rerun this cell to show the HTML representation or trust the notebook. <br />On GitHub, the HTML representation is unable to render, please try loading this page with nbviewer.org.</b></div><div class=\"sk-container\" hidden><div class=\"sk-item\"><div class=\"sk-estimator sk-toggleable\"><input class=\"sk-toggleable__control sk-hidden--visually\" id=\"sk-estimator-id-4\" type=\"checkbox\" checked><label for=\"sk-estimator-id-4\" class=\"sk-toggleable__label sk-toggleable__label-arrow\">LogisticRegression</label><div class=\"sk-toggleable__content\"><pre>LogisticRegression(C=0.5)</pre></div></div></div></div></div>"
            ]
          },
          "metadata": {},
          "execution_count": 38
        }
      ]
    },
    {
      "cell_type": "code",
      "source": [
        "model.classes_"
      ],
      "metadata": {
        "colab": {
          "base_uri": "https://localhost:8080/"
        },
        "id": "YDROMvTswLWk",
        "outputId": "247c3032-4659-4dd3-8547-c569ee0226a3"
      },
      "execution_count": 39,
      "outputs": [
        {
          "output_type": "execute_result",
          "data": {
            "text/plain": [
              "array(['Iris-setosa', 'Iris-versicolor', 'Iris-virginica'], dtype=object)"
            ]
          },
          "metadata": {},
          "execution_count": 39
        }
      ]
    },
    {
      "cell_type": "code",
      "source": [
        "model.intercept_"
      ],
      "metadata": {
        "colab": {
          "base_uri": "https://localhost:8080/"
        },
        "id": "sJOWSnhTwWsY",
        "outputId": "bf0d1ae1-5911-41a6-cd0b-c6c47c73f7ba"
      },
      "execution_count": 40,
      "outputs": [
        {
          "output_type": "execute_result",
          "data": {
            "text/plain": [
              "array([  8.52936262,   2.09256694, -10.62192956])"
            ]
          },
          "metadata": {},
          "execution_count": 40
        }
      ]
    },
    {
      "cell_type": "code",
      "source": [
        "model.coef_"
      ],
      "metadata": {
        "colab": {
          "base_uri": "https://localhost:8080/"
        },
        "id": "GXw6aPgtwqgX",
        "outputId": "ea0fd542-5c48-4e9f-ec32-3f381bb8fe5f"
      },
      "execution_count": 35,
      "outputs": [
        {
          "output_type": "execute_result",
          "data": {
            "text/plain": [
              "array([[-0.40694499,  0.72598561, -2.06471895, -0.86854586],\n",
              "       [ 0.37111105, -0.35698962, -0.10743245, -0.67283322],\n",
              "       [ 0.03583394, -0.36899599,  2.17215141,  1.54137908]])"
            ]
          },
          "metadata": {},
          "execution_count": 35
        }
      ]
    },
    {
      "cell_type": "code",
      "source": [
        "model.predict_proba(x_train)"
      ],
      "metadata": {
        "colab": {
          "base_uri": "https://localhost:8080/"
        },
        "id": "f9jCINzfwwMP",
        "outputId": "5b75d66c-0e4e-4c78-cd21-a410015f1b0a"
      },
      "execution_count": 41,
      "outputs": [
        {
          "output_type": "execute_result",
          "data": {
            "text/plain": [
              "array([[1.77623400e-02, 8.54719377e-01, 1.27518283e-01],\n",
              "       [8.56264192e-05, 1.67993055e-01, 8.31921319e-01],\n",
              "       [1.11640383e-02, 8.52526715e-01, 1.36309247e-01],\n",
              "       [8.72001830e-02, 8.99605095e-01, 1.31947217e-02],\n",
              "       [9.62307008e-01, 3.76918812e-02, 1.11118528e-06],\n",
              "       [1.79931562e-05, 2.90445329e-02, 9.70937474e-01],\n",
              "       [9.32528046e-01, 6.74673415e-02, 4.61264943e-06],\n",
              "       [1.51192888e-02, 8.87904800e-01, 9.69759111e-02],\n",
              "       [1.54958751e-03, 2.92142570e-01, 7.06307842e-01],\n",
              "       [1.19439041e-02, 7.79631591e-01, 2.08424505e-01],\n",
              "       [4.31922571e-02, 9.22643182e-01, 3.41645613e-02],\n",
              "       [1.76790559e-03, 4.25687887e-01, 5.72544208e-01],\n",
              "       [9.64210576e-01, 3.57887394e-02, 6.84469825e-07],\n",
              "       [2.74559412e-02, 8.38457683e-01, 1.34086376e-01],\n",
              "       [3.04419526e-04, 2.54439771e-01, 7.45255809e-01],\n",
              "       [3.16816845e-02, 9.12626489e-01, 5.56918261e-02],\n",
              "       [6.27833932e-06, 1.37987285e-02, 9.86194993e-01],\n",
              "       [4.64988240e-05, 4.38661543e-02, 9.56087347e-01],\n",
              "       [1.08235274e-01, 8.66667277e-01, 2.50974490e-02],\n",
              "       [1.02966980e-05, 1.27841700e-02, 9.87205533e-01],\n",
              "       [9.75364909e-01, 2.46345977e-02, 4.92861883e-07],\n",
              "       [9.43915434e-01, 5.60832003e-02, 1.36541187e-06],\n",
              "       [1.35092369e-03, 5.07646372e-01, 4.91002704e-01],\n",
              "       [1.29207389e-02, 5.82643359e-01, 4.04435902e-01],\n",
              "       [2.71394219e-02, 8.73320061e-01, 9.95405173e-02],\n",
              "       [3.11635537e-02, 8.72859478e-01, 9.59769686e-02],\n",
              "       [5.08633203e-02, 9.21024500e-01, 2.81121794e-02],\n",
              "       [9.56385218e-01, 4.36113743e-02, 3.40767572e-06],\n",
              "       [9.31960912e-01, 6.80339010e-02, 5.18686413e-06],\n",
              "       [3.92256052e-04, 9.55480948e-02, 9.04059649e-01],\n",
              "       [9.47275730e-01, 5.27224444e-02, 1.82563298e-06],\n",
              "       [9.75685543e-06, 5.29847914e-02, 9.47005452e-01],\n",
              "       [1.02152227e-06, 8.14053549e-03, 9.91858443e-01],\n",
              "       [9.82490703e-04, 2.41832901e-01, 7.57184608e-01],\n",
              "       [2.75227452e-03, 4.09867831e-01, 5.87379895e-01],\n",
              "       [9.59910613e-01, 4.00883916e-02, 9.95837569e-07],\n",
              "       [9.71911146e-01, 2.80881955e-02, 6.58476083e-07],\n",
              "       [7.62344165e-05, 6.64167220e-02, 9.33507044e-01],\n",
              "       [9.38833671e-01, 6.11638950e-02, 2.43432211e-06],\n",
              "       [9.63286514e-01, 3.67126643e-02, 8.21748248e-07],\n",
              "       [1.64293833e-01, 8.28035540e-01, 7.67062721e-03],\n",
              "       [9.74526363e-04, 2.45385530e-01, 7.53639943e-01],\n",
              "       [9.58991783e-01, 4.10070924e-02, 1.12449679e-06],\n",
              "       [9.65941103e-01, 3.40581085e-02, 7.88323202e-07],\n",
              "       [1.81130623e-02, 7.11224126e-01, 2.70662812e-01],\n",
              "       [5.16145597e-03, 7.79411245e-01, 2.15427299e-01],\n",
              "       [1.61701182e-03, 4.58049830e-01, 5.40333158e-01],\n",
              "       [9.80670852e-01, 1.93288172e-02, 3.31099895e-07],\n",
              "       [9.84745121e-01, 1.52547187e-02, 1.60317416e-07],\n",
              "       [1.91418557e-01, 8.00918254e-01, 7.66318943e-03],\n",
              "       [6.29537851e-02, 9.19146546e-01, 1.78996692e-02],\n",
              "       [1.86016395e-04, 1.30711285e-01, 8.69102699e-01],\n",
              "       [9.73125661e-01, 2.68735097e-02, 8.29030602e-07],\n",
              "       [9.53735961e-01, 4.62630505e-02, 9.88389703e-07],\n",
              "       [3.18228595e-02, 9.27662898e-01, 4.05142421e-02],\n",
              "       [9.27630182e-01, 7.23672532e-02, 2.56466946e-06],\n",
              "       [2.56666200e-04, 1.68851988e-01, 8.30891346e-01],\n",
              "       [9.74957512e-01, 2.50420362e-02, 4.51984805e-07],\n",
              "       [9.69533391e-01, 3.04658579e-02, 7.50970377e-07],\n",
              "       [1.67384509e-02, 7.28115134e-01, 2.55146415e-01],\n",
              "       [1.75026773e-02, 8.79748300e-01, 1.02749023e-01],\n",
              "       [1.17644052e-04, 1.03652118e-01, 8.96230238e-01],\n",
              "       [7.19476428e-03, 7.99887283e-01, 1.92917953e-01],\n",
              "       [9.76654352e-01, 2.33451739e-02, 4.73768671e-07],\n",
              "       [9.61067725e-01, 3.89313407e-02, 9.34086088e-07],\n",
              "       [9.78878518e-01, 2.11210170e-02, 4.65496852e-07],\n",
              "       [8.60875585e-07, 1.21706998e-02, 9.87828439e-01],\n",
              "       [9.69571214e-01, 3.04276131e-02, 1.17272857e-06],\n",
              "       [3.59502031e-02, 8.86065844e-01, 7.79839526e-02],\n",
              "       [9.60504138e-01, 3.94951664e-02, 6.95535265e-07],\n",
              "       [1.44097044e-02, 8.09090424e-01, 1.76499872e-01],\n",
              "       [3.00935286e-04, 1.64356563e-01, 8.35342502e-01],\n",
              "       [2.71654706e-03, 6.37913190e-01, 3.59370263e-01],\n",
              "       [3.13256319e-05, 7.61245047e-02, 9.23844170e-01],\n",
              "       [5.29754580e-03, 7.19830485e-01, 2.74871969e-01],\n",
              "       [9.79679248e-01, 2.03203641e-02, 3.87907726e-07],\n",
              "       [9.77083640e-01, 2.29156440e-02, 7.16219722e-07],\n",
              "       [9.79529256e-01, 2.04705422e-02, 2.01484263e-07],\n",
              "       [2.10043531e-03, 2.73762581e-01, 7.24136984e-01],\n",
              "       [9.70106355e-01, 2.98930549e-02, 5.90496971e-07],\n",
              "       [1.14318029e-02, 7.56475241e-01, 2.32092956e-01],\n",
              "       [9.28308018e-08, 4.09261484e-03, 9.95907292e-01],\n",
              "       [6.96071295e-03, 7.22158144e-01, 2.70881143e-01],\n",
              "       [9.61335702e-01, 3.86629643e-02, 1.33397839e-06],\n",
              "       [2.00757211e-05, 4.88727169e-02, 9.51107207e-01],\n",
              "       [7.75082087e-05, 3.87056232e-02, 9.61216869e-01],\n",
              "       [7.62721625e-05, 7.43501747e-02, 9.25573553e-01],\n",
              "       [1.91636146e-02, 7.13478901e-01, 2.67357485e-01],\n",
              "       [9.48002379e-01, 5.19958022e-02, 1.81877717e-06],\n",
              "       [9.82490703e-04, 2.41832901e-01, 7.57184608e-01],\n",
              "       [5.39996511e-04, 2.05360171e-01, 7.94099833e-01],\n",
              "       [4.17599297e-06, 2.49405189e-02, 9.75055305e-01],\n",
              "       [1.46878838e-03, 3.98316392e-01, 6.00214820e-01],\n",
              "       [4.46863463e-02, 9.15835494e-01, 3.94781599e-02],\n",
              "       [3.41609399e-04, 1.98366239e-01, 8.01292151e-01],\n",
              "       [3.30225495e-02, 9.17255055e-01, 4.97223955e-02],\n",
              "       [9.56639672e-01, 4.33594067e-02, 9.21424289e-07],\n",
              "       [9.53735961e-01, 4.62630505e-02, 9.88389703e-07],\n",
              "       [9.62108871e-02, 8.93499764e-01, 1.02893488e-02],\n",
              "       [9.53735961e-01, 4.62630505e-02, 9.88389703e-07],\n",
              "       [4.57708755e-02, 8.75102937e-01, 7.91261872e-02],\n",
              "       [3.94444364e-05, 4.65292017e-02, 9.53431354e-01],\n",
              "       [3.17071696e-05, 4.05793753e-02, 9.59388918e-01],\n",
              "       [2.32406863e-04, 7.11831711e-02, 9.28584422e-01],\n",
              "       [9.62799869e-01, 3.71991757e-02, 9.55573487e-07]])"
            ]
          },
          "metadata": {},
          "execution_count": 41
        }
      ]
    },
    {
      "cell_type": "code",
      "source": [
        "y_pre=model.predict(x_test)\n"
      ],
      "metadata": {
        "id": "umL17cA7xc9Z"
      },
      "execution_count": 42,
      "outputs": []
    },
    {
      "cell_type": "code",
      "source": [
        "model.score(x_test,y_test)"
      ],
      "metadata": {
        "colab": {
          "base_uri": "https://localhost:8080/"
        },
        "id": "mE0r4oghx4JG",
        "outputId": "3d628099-bc37-431c-856e-5cdd820316d3"
      },
      "execution_count": 43,
      "outputs": [
        {
          "output_type": "execute_result",
          "data": {
            "text/plain": [
              "0.9777777777777777"
            ]
          },
          "metadata": {},
          "execution_count": 43
        }
      ]
    },
    {
      "cell_type": "code",
      "source": [
        "confusion_matrix(y_test,y_pred)"
      ],
      "metadata": {
        "colab": {
          "base_uri": "https://localhost:8080/"
        },
        "id": "Tc4JbXleyKpk",
        "outputId": "525f3821-f39d-46b6-965e-fa1c6346a5e0"
      },
      "execution_count": 49,
      "outputs": [
        {
          "output_type": "execute_result",
          "data": {
            "text/plain": [
              "array([[14,  0,  0],\n",
              "       [ 0, 15,  1],\n",
              "       [ 0,  0, 15]])"
            ]
          },
          "metadata": {},
          "execution_count": 49
        }
      ]
    },
    {
      "cell_type": "code",
      "source": [
        "from sklearn.svm import SVC\n",
        "from sklearn.metrics import accuracy_score, confusion_matrix, precision_recall_fscore_support\n",
        "import seaborn as sns\n",
        "\n",
        "clf = SVC(kernel = 'linear').fit(x_train,y_train)\n",
        "clf.predict(x_train)\n",
        "y_pred = clf.predict(x_test)\n",
        "\n",
        "# Creates a confusion matrix\n",
        "cm = confusion_matrix(y_test, y_pre) \n",
        "\n",
        "# Transform to df for easier plotting\n",
        "cm_df = pd.DataFrame(cm,\n",
        "                     index = ['setosa','versicolor','virginica'], \n",
        "                     columns = ['setosa','versicolor','virginica'])\n",
        "\n",
        "plt.figure(figsize=(5.5,4))\n",
        "sns.heatmap(cm_df, annot=True)\n",
        "plt.title('SVM Linear Kernel \\nAccuracy:{0:.3f}'.format(accuracy_score(y_test, y_pred)))\n",
        "plt.ylabel('True label')\n",
        "plt.xlabel('Predicted label')\n",
        "plt.show()"
      ],
      "metadata": {
        "id": "b2vPOM1E16Ts",
        "colab": {
          "base_uri": "https://localhost:8080/",
          "height": 431
        },
        "outputId": "7c9182b0-042c-4091-b37b-9ad2e0b6b15f"
      },
      "execution_count": 51,
      "outputs": [
        {
          "output_type": "display_data",
          "data": {
            "text/plain": [
              "<Figure size 550x400 with 2 Axes>"
            ],
            "image/png": "[encoded data removed]"
          },
          "metadata": {}
        }
      ]
    },
    {
      "cell_type": "code",
      "source": [
        "print(classification_report(y_test,y_pre))"
      ],
      "metadata": {
        "colab": {
          "base_uri": "https://localhost:8080/"
        },
        "id": "2HQcoNPM6aJI",
        "outputId": "6eff4eb8-56dc-46a4-efc5-2cf4bc5fed50"
      },
      "execution_count": 52,
      "outputs": [
        {
          "output_type": "stream",
          "name": "stdout",
          "text": [
            "                 precision    recall  f1-score   support\n",
            "\n",
            "    Iris-setosa       1.00      1.00      1.00        14\n",
            "Iris-versicolor       1.00      0.94      0.97        16\n",
            " Iris-virginica       0.94      1.00      0.97        15\n",
            "\n",
            "       accuracy                           0.98        45\n",
            "      macro avg       0.98      0.98      0.98        45\n",
            "   weighted avg       0.98      0.98      0.98        45\n",
            "\n"
          ]
        }
      ]
    }
  ]
}