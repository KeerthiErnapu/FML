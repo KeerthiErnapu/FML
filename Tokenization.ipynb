{
  "nbformat": 4,
  "nbformat_minor": 0,
  "metadata": {
    "colab": {
      "provenance": [],
      "authorship_tag": "ABX9TyPXuhJZ/H2Qsam5CdwWZskW",
      "include_colab_link": true
    },
    "kernelspec": {
      "name": "python3",
      "display_name": "Python 3"
    },
    "language_info": {
      "name": "python"
    }
  },
  "cells": [
    {
      "cell_type": "markdown",
      "metadata": {
        "id": "view-in-github",
        "colab_type": "text"
      },
      "source": [
        "<a href=\"https://colab.research.google.com/github/KeerthiErnapu/FML/blob/main/Tokenization.ipynb\" target=\"_parent\"><img src=\"https://colab.research.google.com/assets/colab-badge.svg\" alt=\"Open In Colab\"/></a>"
      ]
    },
    {
      "cell_type": "code",
      "execution_count": null,
      "metadata": {
        "id": "u0tLoMIC8KnB"
      },
      "outputs": [],
      "source": [
        "import nltk\n",
        "from nltk.tokenize import word_tokenize\n",
        "from nltk.corpus import stopwords"
      ]
    },
    {
      "cell_type": "code",
      "source": [
        "nltk.download('punkt')"
      ],
      "metadata": {
        "colab": {
          "base_uri": "https://localhost:8080/"
        },
        "id": "Mk0Df45N8cpu",
        "outputId": "235a45ef-023c-4443-d8ad-bab448aa6f85"
      },
      "execution_count": null,
      "outputs": [
        {
          "output_type": "stream",
          "name": "stderr",
          "text": [
            "[nltk_data] Downloading package punkt to /root/nltk_data...\n",
            "[nltk_data]   Package punkt is already up-to-date!\n"
          ]
        },
        {
          "output_type": "execute_result",
          "data": {
            "text/plain": [
              "True"
            ]
          },
          "metadata": {},
          "execution_count": 12
        }
      ]
    },
    {
      "cell_type": "code",
      "source": [
        "sent=\"\"\"Hii everyone i am keerthi.my favourite author is sudha murthy\n",
        "     she is a great author.In her books she writes about her real time experiences and fiction \n",
        "     also. \"\"\""
      ],
      "metadata": {
        "id": "XSezjuHo8pd4"
      },
      "execution_count": null,
      "outputs": []
    },
    {
      "cell_type": "code",
      "source": [
        "l=[str(x) for x in sent.split()]\n",
        "print(l)"
      ],
      "metadata": {
        "colab": {
          "base_uri": "https://localhost:8080/"
        },
        "id": "yes0njZg9ODQ",
        "outputId": "a7e29ed1-2f1d-4b24-ebcb-e986228bd689"
      },
      "execution_count": null,
      "outputs": [
        {
          "output_type": "stream",
          "name": "stdout",
          "text": [
            "['Hii', 'everyone', 'i', 'am', 'keerthi.my', 'favourite', 'author', 'is', 'sudha', 'murthy', 'she', 'is', 'a', 'great', 'author.In', 'her', 'books', 'she', 'writes', 'about', 'her', 'real', 'time', 'experiences', 'and', 'fiction', 'also.']\n"
          ]
        }
      ]
    },
    {
      "cell_type": "code",
      "source": [
        "#using split method\n",
        "l=[str(x) for x in sent.split('.')]\n",
        "print(l)"
      ],
      "metadata": {
        "colab": {
          "base_uri": "https://localhost:8080/"
        },
        "id": "4t5FeU6G9hai",
        "outputId": "4fb856ef-303d-4b41-8c50-cbf8a86e6f78"
      },
      "execution_count": null,
      "outputs": [
        {
          "output_type": "stream",
          "name": "stdout",
          "text": [
            "['Hii everyone i am keerthi', 'my favourite author is sudha murthy\\n     she is a great author', 'In her books she writes about her real time experiences and fiction \\n     also', ' ']\n"
          ]
        }
      ]
    },
    {
      "cell_type": "code",
      "source": [
        "nltk.download('stopwords')"
      ],
      "metadata": {
        "colab": {
          "base_uri": "https://localhost:8080/"
        },
        "id": "U6TDwVN998JJ",
        "outputId": "b50b23f8-bcd7-4068-b598-5603421722dc"
      },
      "execution_count": null,
      "outputs": [
        {
          "output_type": "stream",
          "name": "stderr",
          "text": [
            "[nltk_data] Downloading package stopwords to /root/nltk_data...\n",
            "[nltk_data]   Package stopwords is already up-to-date!\n"
          ]
        },
        {
          "output_type": "execute_result",
          "data": {
            "text/plain": [
              "True"
            ]
          },
          "metadata": {},
          "execution_count": 16
        }
      ]
    },
    {
      "cell_type": "code",
      "source": [
        "stop_words=set(stopwords.words('english'))"
      ],
      "metadata": {
        "id": "YWk-LJSe-BIa"
      },
      "execution_count": null,
      "outputs": []
    },
    {
      "cell_type": "code",
      "source": [
        "#using nltk\n",
        "word_tokens=word_tokenize(sent)"
      ],
      "metadata": {
        "id": "miOF1cfd9mqx"
      },
      "execution_count": null,
      "outputs": []
    },
    {
      "cell_type": "code",
      "source": [
        "final_sent=[]\n",
        "for x in word_tokens:\n",
        "  if x not in stop_words:\n",
        "    final_sent.append(x)\n",
        "print(final_sent)"
      ],
      "metadata": {
        "colab": {
          "base_uri": "https://localhost:8080/"
        },
        "id": "-90m2OhE9upS",
        "outputId": "a561ca5d-cc38-4781-b51a-b02a870567df"
      },
      "execution_count": null,
      "outputs": [
        {
          "output_type": "stream",
          "name": "stdout",
          "text": [
            "['Hii', 'everyone', 'keerthi.my', 'favourite', 'author', 'sudha', 'murthy', 'great', 'author.In', 'books', 'writes', 'real', 'time', 'experiences', 'fiction', 'also', '.']\n"
          ]
        }
      ]
    }
  ]
}