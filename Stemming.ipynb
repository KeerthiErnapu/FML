{
  "nbformat": 4,
  "nbformat_minor": 0,
  "metadata": {
    "colab": {
      "provenance": [],
      "authorship_tag": "ABX9TyMZj7jCtaC0lQnpKabHeLib",
      "include_colab_link": true
    },
    "kernelspec": {
      "name": "python3",
      "display_name": "Python 3"
    },
    "language_info": {
      "name": "python"
    }
  },
  "cells": [
    {
      "cell_type": "markdown",
      "metadata": {
        "id": "view-in-github",
        "colab_type": "text"
      },
      "source": [
        "<a href=\"https://colab.research.google.com/github/KeerthiErnapu/FML/blob/main/Stemming.ipynb\" target=\"_parent\"><img src=\"https://colab.research.google.com/assets/colab-badge.svg\" alt=\"Open In Colab\"/></a>"
      ]
    },
    {
      "cell_type": "code",
      "execution_count": 3,
      "metadata": {
        "id": "z35OAWTA_4fC"
      },
      "outputs": [],
      "source": [
        "from nltk.stem import PorterStemmer"
      ]
    },
    {
      "cell_type": "code",
      "source": [
        "obj=PorterStemmer()\n",
        "print(obj.stem('cats'))\n",
        "print(obj.stem('eating'))\n",
        "print(obj.stem('cries'))\n",
        "print(obj.stem('lonely'))"
      ],
      "metadata": {
        "colab": {
          "base_uri": "https://localhost:8080/"
        },
        "id": "0b2OUyVwAmRr",
        "outputId": "9cbdaa54-0e5f-4b0e-9326-12e425da0efb"
      },
      "execution_count": 11,
      "outputs": [
        {
          "output_type": "stream",
          "name": "stdout",
          "text": [
            "cat\n",
            "eat\n",
            "cri\n",
            "lone\n"
          ]
        }
      ]
    },
    {
      "cell_type": "code",
      "source": [
        "from nltk.tokenize import sent_tokenize,word_tokenize"
      ],
      "metadata": {
        "id": "9nPYC2r3Bosh"
      },
      "execution_count": 18,
      "outputs": []
    },
    {
      "cell_type": "code",
      "source": [
        "import nltk\n",
        "nltk.download('punkt')"
      ],
      "metadata": {
        "colab": {
          "base_uri": "https://localhost:8080/"
        },
        "id": "d-E9BNUVFB4B",
        "outputId": "b586e4d9-6815-4baa-c7ee-e3da36a92025"
      },
      "execution_count": 21,
      "outputs": [
        {
          "output_type": "stream",
          "name": "stderr",
          "text": [
            "[nltk_data] Downloading package punkt to /root/nltk_data...\n",
            "[nltk_data]   Unzipping tokenizers/punkt.zip.\n"
          ]
        },
        {
          "output_type": "execute_result",
          "data": {
            "text/plain": [
              "True"
            ]
          },
          "metadata": {},
          "execution_count": 21
        }
      ]
    },
    {
      "cell_type": "code",
      "source": [
        "sent=\"\"\"Hello! i am keerthi studying in vit\n",
        "     bhimavaram.my hobbies are singing,reading books\"\"\"\n",
        "def stemfun(sent):\n",
        "  l=[]\n",
        "  token_words=word_tokenize(sent)\n",
        "  print(token_words)\n",
        "  for x in token_words:\n",
        "    l.append(obj.stem(x))\n",
        "  return l\n",
        "print(stemfun(sent))"
      ],
      "metadata": {
        "colab": {
          "base_uri": "https://localhost:8080/"
        },
        "id": "Gi7vf1eUCLEW",
        "outputId": "6d6c17ee-521b-4595-d649-d2edeb301d26"
      },
      "execution_count": 23,
      "outputs": [
        {
          "output_type": "stream",
          "name": "stdout",
          "text": [
            "['Hello', '!', 'i', 'am', 'keerthi', 'studying', 'in', 'vit', 'bhimavaram.my', 'hobbies', 'are', 'singing', ',', 'reading', 'books']\n",
            "['hello', '!', 'i', 'am', 'keerthi', 'studi', 'in', 'vit', 'bhimavaram.mi', 'hobbi', 'are', 'sing', ',', 'read', 'book']\n"
          ]
        }
      ]
    }
  ]
}